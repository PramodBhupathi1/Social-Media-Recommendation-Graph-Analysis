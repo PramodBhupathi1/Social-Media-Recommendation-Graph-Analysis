{
 "cells": [
  {
   "cell_type": "code",
   "execution_count": 3,
   "id": "6ec67b56",
   "metadata": {},
   "outputs": [],
   "source": [
    "import warnings\n",
    "warnings.filterwarnings(\"ignore\")\n",
    "import numpy as np\n",
    "import pickle\n",
    "import pandas as pd\n",
    "import os\n",
    "import networkx as nx\n",
    "from pandas import HDFStore,DataFrame\n",
    "from pandas import read_hdf\n",
    "import gc\n",
    "from tqdm import tqdm"
   ]
  },
  {
   "cell_type": "code",
   "execution_count": 4,
   "id": "f3e2caf0",
   "metadata": {},
   "outputs": [],
   "source": [
    "data = pd.read_csv('E:/GSU_Study/COURSE_SCHEDULE/Fall-24/Graph Analytics/project/train.csv')\n",
    "   "
   ]
  },
  {
   "cell_type": "code",
   "execution_count": 5,
   "id": "d26ecc4a",
   "metadata": {},
   "outputs": [
    {
     "data": {
      "text/html": [
       "<div>\n",
       "<style scoped>\n",
       "    .dataframe tbody tr th:only-of-type {\n",
       "        vertical-align: middle;\n",
       "    }\n",
       "\n",
       "    .dataframe tbody tr th {\n",
       "        vertical-align: top;\n",
       "    }\n",
       "\n",
       "    .dataframe thead th {\n",
       "        text-align: right;\n",
       "    }\n",
       "</style>\n",
       "<table border=\"1\" class=\"dataframe\">\n",
       "  <thead>\n",
       "    <tr style=\"text-align: right;\">\n",
       "      <th></th>\n",
       "      <th>source_node</th>\n",
       "      <th>destination_node</th>\n",
       "    </tr>\n",
       "  </thead>\n",
       "  <tbody>\n",
       "    <tr>\n",
       "      <th>0</th>\n",
       "      <td>1</td>\n",
       "      <td>690569</td>\n",
       "    </tr>\n",
       "    <tr>\n",
       "      <th>1</th>\n",
       "      <td>1</td>\n",
       "      <td>315892</td>\n",
       "    </tr>\n",
       "  </tbody>\n",
       "</table>\n",
       "</div>"
      ],
      "text/plain": [
       "   source_node  destination_node\n",
       "0            1            690569\n",
       "1            1            315892"
      ]
     },
     "execution_count": 5,
     "metadata": {},
     "output_type": "execute_result"
    }
   ],
   "source": [
    "data.head(2)"
   ]
  },
  {
   "cell_type": "code",
   "execution_count": 7,
   "id": "d6ebd04b",
   "metadata": {},
   "outputs": [
    {
     "name": "stdout",
     "output_type": "stream",
     "text": [
      "<class 'pandas.core.frame.DataFrame'>\n",
      "RangeIndex: 9437519 entries, 0 to 9437518\n",
      "Data columns (total 2 columns):\n",
      " #   Column            Dtype\n",
      "---  ------            -----\n",
      " 0   source_node       int64\n",
      " 1   destination_node  int64\n",
      "dtypes: int64(2)\n",
      "memory usage: 144.0 MB\n"
     ]
    }
   ],
   "source": [
    "data.info()"
   ]
  },
  {
   "cell_type": "code",
   "execution_count": 8,
   "id": "c097d4d3",
   "metadata": {},
   "outputs": [],
   "source": [
    "duplicates = data.duplicated().sum()\n"
   ]
  },
  {
   "cell_type": "code",
   "execution_count": 9,
   "id": "c1e6ee21",
   "metadata": {},
   "outputs": [
    {
     "data": {
      "text/plain": [
       "0"
      ]
     },
     "execution_count": 9,
     "metadata": {},
     "output_type": "execute_result"
    }
   ],
   "source": [
    "duplicates"
   ]
  },
  {
   "cell_type": "code",
   "execution_count": 10,
   "id": "818d4ea9",
   "metadata": {},
   "outputs": [
    {
     "data": {
      "text/plain": [
       "0"
      ]
     },
     "execution_count": 10,
     "metadata": {},
     "output_type": "execute_result"
    }
   ],
   "source": [
    "missing_values = data.isnull().sum().sum()\n",
    "missing_values"
   ]
  },
  {
   "cell_type": "code",
   "execution_count": 11,
   "id": "146ca9af",
   "metadata": {},
   "outputs": [],
   "source": [
    "g = nx.from_pandas_edgelist(data, 'source_node', 'destination_node', create_using=nx.DiGraph())"
   ]
  },
  {
   "cell_type": "code",
   "execution_count": 12,
   "id": "af67d2b2",
   "metadata": {},
   "outputs": [],
   "source": [
    "\n",
    "import scipy.sparse as sp  \n",
    "\n",
    "G = g  # Keep as directed graph\n",
    "G_undirected = G.to_undirected()\n",
    "\n",
    "# Create a mapping of node IDs to indices\n",
    "node_id_to_index = {node: idx for idx, node in enumerate(G.nodes())}\n",
    "\n",
    "# Adjust the PageRank function to return a dictionary\n",
    "def approximate_pagerank(adj_matrix, alpha=0.85, tol=1e-6, max_iter=100):\n",
    "    n = adj_matrix.shape[0]\n",
    "    # Convert to float for division operation\n",
    "    adj_matrix = sp.csr_matrix(adj_matrix, dtype=float)\n",
    "    # Normalize the adjacency matrix for PageRank computation\n",
    "    row_sums = np.array(adj_matrix.sum(axis=1)).flatten()\n",
    "    row_indices, col_indices = adj_matrix.nonzero()\n",
    "    adj_matrix.data /= row_sums[row_indices]\n",
    "\n",
    "    # Initialize PageRank vector\n",
    "    x = np.ones(n) / n\n",
    "    # Personalization vector\n",
    "    p = np.ones(n) / n\n",
    "    # Dangling nodes (nodes with no outgoing links)\n",
    "    dangling_weights = np.where(row_sums == 0)[0]\n",
    "\n",
    "    for _ in range(max_iter):\n",
    "        x_last = x\n",
    "        # Calculate PageRank\n",
    "        x = alpha * (adj_matrix.dot(x) + (x[dangling_weights].sum() / n)) + (1 - alpha) * p\n",
    "        # Check convergence\n",
    "        if np.linalg.norm(x - x_last, ord=1) < tol:\n",
    "            break\n",
    "            \n",
    "    return {node: rank for node, rank in zip(G.nodes(), x)}\n",
    "\n",
    "# Compute PageRank centrality\n",
    "adj_matrix = nx.adjacency_matrix(G_undirected)\n",
    "pagerank_centrality = approximate_pagerank(adj_matrix)\n",
    "\n",
    "# Ensure the mapping is correct\n",
    "node_index_to_id = {idx: node for node, idx in node_id_to_index.items()}\n",
    "pagerank_centrality = {node_index_to_id[idx]: rank for idx, rank in enumerate(approximate_pagerank(adj_matrix))}\n",
    "\n",
    "non_edges = nx.non_edges(G_undirected)\n",
    "\n",
    "\n"
   ]
  },
  {
   "cell_type": "code",
   "execution_count": 15,
   "id": "9741c046",
   "metadata": {},
   "outputs": [
    {
     "name": "stderr",
     "output_type": "stream",
     "text": [
      "Computing Features: 100%|█████████████████████████████████████████████████████| 188750/188750 [15:58<00:00, 196.91it/s]\n"
     ]
    }
   ],
   "source": [
    "import random \n",
    "import networkx as nx\n",
    "from tqdm import tqdm  \n",
    "\n",
    "# Function to compute features for a pair of nodes\n",
    "def compute_features(G, G_undirected, edge, jaccard_dict, adamic_adar_dict, pref_attachment_dict, pagerank_centrality, node_id_to_index):\n",
    "    u, v = edge\n",
    "    u_idx, v_idx = node_id_to_index[u], node_id_to_index[v]\n",
    "    features = {\n",
    "        'commonneighbors': len(list(nx.common_neighbors(G_undirected, u, v))),\n",
    "        'jaccard_coefficient': jaccard_dict.get((u, v), 0),\n",
    "        'resource_allocation': adamic_adar_dict.get((u, v), 0),\n",
    "        'adamic_adar': adamic_adar_dict.get((u, v), 0),\n",
    "        'preferential': pref_attachment_dict.get((u, v), 0),\n",
    "        'degree_u': G.degree(u),\n",
    "        'degree_v': G.degree(v),\n",
    "        'cluster_u': nx.clustering(G, u),\n",
    "        'cluster_v': nx.clustering(G, v),\n",
    "        'nooffollowers_u': G.in_degree(u),\n",
    "        'nooffollowees_u': G.out_degree(u),\n",
    "        'nooffollowers_v': G.in_degree(v),\n",
    "        'nooffollowees_v': G.out_degree(v),\n",
    "        'pagerank_u': pagerank_centrality.get(u, 0),\n",
    "        'pagerank_v': pagerank_centrality.get(v, 0),\n",
    "    }\n",
    "    return features\n",
    "\n",
    "# Convert edge view to a list for sampling\n",
    "edges_list = list(G.edges())\n",
    "\n",
    "# Sample a smaller number of edges if necessary\n",
    "sample_size = max(int(len(edges_list) * 0.02), 1)  # Reduced to 1 or 0.5% or adjust as needed\n",
    "sampled_edges = random.sample(edges_list, sample_size)\n",
    "\n",
    "G_train = G.copy()\n",
    "G_train.remove_edges_from(sampled_edges)\n",
    "\n",
    "# Precompute pairwise metrics\n",
    "jaccard_dict = {(u, v): p for u, v, p in nx.jaccard_coefficient(G_undirected, sampled_edges)}\n",
    "adamic_adar_dict = {(u, v): p for u, v, p in nx.adamic_adar_index(G_undirected, sampled_edges)}\n",
    "pref_attachment_dict = {(u, v): p for u, v, p in nx.preferential_attachment(G_undirected, sampled_edges)}\n",
    "\n",
    "# Compute features for sampled edges\n",
    "test_set_with_features = [compute_features(G, G_undirected, edge, jaccard_dict, adamic_adar_dict, pref_attachment_dict, pagerank_centrality, node_id_to_index) \n",
    "                          for edge in tqdm(sampled_edges, desc='Computing Features')]\n"
   ]
  },
  {
   "cell_type": "code",
   "execution_count": 16,
   "id": "e102f4c1",
   "metadata": {},
   "outputs": [
    {
     "name": "stderr",
     "output_type": "stream",
     "text": [
      "Writing Features: 100%|█████████████████████████████████████████████████████| 188750/188750 [00:08<00:00, 23033.85it/s]"
     ]
    },
    {
     "name": "stdout",
     "output_type": "stream",
     "text": [
      "Features have been written to 'test_set_with_features.csv'\n"
     ]
    },
    {
     "name": "stderr",
     "output_type": "stream",
     "text": [
      "\n"
     ]
    }
   ],
   "source": [
    "import csv\n",
    "# Write the features to a CSV file instead of printing them\n",
    "with open('E:/GSU_Study/COURSE_SCHEDULE/Fall-24/Graph Analytics/project/set_with_features.csv', 'w', newline='') as csvfile:\n",
    "    fieldnames = ['u', 'v'] + list(test_set_with_features[0].keys())\n",
    "    writer = csv.DictWriter(csvfile, fieldnames=fieldnames)\n",
    "    writer.writeheader()\n",
    "    for edge, features in tqdm(zip(sampled_edges, test_set_with_features), total=len(sampled_edges), desc='Writing Features'):\n",
    "        row = {'u': edge[0], 'v': edge[1], **features}\n",
    "        writer.writerow(row)\n",
    "\n",
    "print(\"Features have been written to 'test_set_with_features.csv'\")"
   ]
  },
  {
   "cell_type": "code",
   "execution_count": null,
   "id": "115f3dfb",
   "metadata": {},
   "outputs": [],
   "source": []
  }
 ],
 "metadata": {
  "kernelspec": {
   "display_name": "Python 3 (ipykernel)",
   "language": "python",
   "name": "python3"
  },
  "language_info": {
   "codemirror_mode": {
    "name": "ipython",
    "version": 3
   },
   "file_extension": ".py",
   "mimetype": "text/x-python",
   "name": "python",
   "nbconvert_exporter": "python",
   "pygments_lexer": "ipython3",
   "version": "3.11.5"
  }
 },
 "nbformat": 4,
 "nbformat_minor": 5
}
